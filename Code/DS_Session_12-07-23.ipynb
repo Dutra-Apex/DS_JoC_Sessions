{
  "nbformat": 4,
  "nbformat_minor": 0,
  "metadata": {
    "colab": {
      "provenance": [],
      "gpuType": "T4",
      "authorship_tag": "ABX9TyP4OaiC1SuUAbVU0RQ+Ch4C",
      "include_colab_link": true
    },
    "kernelspec": {
      "name": "python3",
      "display_name": "Python 3"
    },
    "language_info": {
      "name": "python"
    },
    "accelerator": "GPU"
  },
  "cells": [
    {
      "cell_type": "markdown",
      "metadata": {
        "id": "view-in-github",
        "colab_type": "text"
      },
      "source": [
        "<a href=\"https://colab.research.google.com/github/Dutra-Apex/DS_JoC_Sessions/blob/main/Code/DS_Session_12-07-23.ipynb\" target=\"_parent\"><img src=\"https://colab.research.google.com/assets/colab-badge.svg\" alt=\"Open In Colab\"/></a>"
      ]
    },
    {
      "cell_type": "markdown",
      "source": [
        "# MNIST data\n",
        "\n",
        "We will be working with the MNIST data (https://en.wikipedia.org/wiki/MNIST_database), a famous dataset that consists of images of handwritten digits between 0 and 9. Our goal will be to have a model that can correctly classify the image of a handwritten digit."
      ],
      "metadata": {
        "id": "SA30PrwmXP8Q"
      }
    },
    {
      "cell_type": "code",
      "execution_count": 1,
      "metadata": {
        "id": "uNtabYI7Atuq"
      },
      "outputs": [],
      "source": [
        "import numpy as np\n",
        "import matplotlib.pyplot as plt\n",
        "import tensorflow as tf"
      ]
    },
    {
      "cell_type": "markdown",
      "source": [
        "## Loading and exploring the data\n",
        "\n"
      ],
      "metadata": {
        "id": "V5XpYTO3V9wQ"
      }
    },
    {
      "cell_type": "code",
      "source": [
        "# Loading data\n",
        "(train_images, train_labels), (test_images, test_labels) = tf.keras.datasets.mnist.load_data()"
      ],
      "metadata": {
        "id": "4gYxrQd2BsIV"
      },
      "execution_count": 13,
      "outputs": []
    },
    {
      "cell_type": "code",
      "source": [
        "# Examining data shape\n",
        "print(train_images.shape) # 60000 images for training, each 28x28\n",
        "print(test_images.shape)  # 10000 images for validation\n",
        "print(train_labels.shape) # 1 label per image\n",
        "print(test_labels.shape)"
      ],
      "metadata": {
        "colab": {
          "base_uri": "https://localhost:8080/"
        },
        "id": "Z-H585VoB5ZD",
        "outputId": "85e36903-1481-443d-f4fe-1024db396d44"
      },
      "execution_count": 14,
      "outputs": [
        {
          "output_type": "stream",
          "name": "stdout",
          "text": [
            "(60000, 28, 28)\n",
            "(10000, 28, 28)\n",
            "(60000,)\n",
            "(10000,)\n"
          ]
        }
      ]
    },
    {
      "cell_type": "code",
      "source": [
        "# Displaying data\n",
        "n = np.random.randint(0, len(train_images))\n",
        "plt.imshow(train_images[n], cmap=\"gray\")\n",
        "plt.show()\n",
        "\n",
        "print(\"Label: \", train_labels[n])"
      ],
      "metadata": {
        "colab": {
          "base_uri": "https://localhost:8080/",
          "height": 447
        },
        "id": "YtAq3NuECZWr",
        "outputId": "d3ab991e-9c90-4821-fa88-211c7bd29417"
      },
      "execution_count": 15,
      "outputs": [
        {
          "output_type": "display_data",
          "data": {
            "text/plain": [
              "<Figure size 640x480 with 1 Axes>"
            ],
            "image/png": "[encoded data removed]"
          },
          "metadata": {}
        },
        {
          "output_type": "stream",
          "name": "stdout",
          "text": [
            "Label:  2\n"
          ]
        }
      ]
    },
    {
      "cell_type": "markdown",
      "source": [
        "## Prepping the data for the model"
      ],
      "metadata": {
        "id": "ppmtCQnNWEET"
      }
    },
    {
      "cell_type": "code",
      "source": [
        "# Like most ML problems, it is also common practice to normalize the input\n",
        "# This is done to avoid 'vanishing' and 'exploding' gradients\n",
        "# Since we have images, and all images have pixel values ranging between 0 and 255,\n",
        "# we can normalize the images by simply dividing the pixel values by 255:\n",
        "train_images = train_images.astype('float32') / 255\n",
        "test_images = test_images.astype('float32') / 255"
      ],
      "metadata": {
        "id": "cMZbxARcD4pe"
      },
      "execution_count": 16,
      "outputs": []
    },
    {
      "cell_type": "code",
      "source": [
        "# We need to convert our labels into an array containing the probability for each class\n",
        "# This is required for the loss function that we'll be using, and it can be done as follows:\n",
        "train_labels = tf.keras.utils.to_categorical(train_labels)\n",
        "test_labels = tf.keras.utils.to_categorical(test_labels)"
      ],
      "metadata": {
        "id": "UDMCu2QlEJL6"
      },
      "execution_count": 17,
      "outputs": []
    },
    {
      "cell_type": "code",
      "source": [
        "# Now, our labels are arrays, where each value corresponds to the probability\n",
        "# of that class being the correct one, so a label '0' is now [1,0,0,0,0,0,0,0,0,0],\n",
        "# a label of '1' is now [0,1,0,0,0,0,0,0,0,0], and so one...\n",
        "train_labels[0]"
      ],
      "metadata": {
        "colab": {
          "base_uri": "https://localhost:8080/"
        },
        "id": "U9NBMQBmElXQ",
        "outputId": "a42e255b-87af-4994-e850-7de729675d46"
      },
      "execution_count": 18,
      "outputs": [
        {
          "output_type": "execute_result",
          "data": {
            "text/plain": [
              "array([0., 0., 0., 0., 0., 1., 0., 0., 0., 0.], dtype=float32)"
            ]
          },
          "metadata": {},
          "execution_count": 18
        }
      ]
    },
    {
      "cell_type": "markdown",
      "source": [
        "## Making the model"
      ],
      "metadata": {
        "id": "AO-8l5pZYJni"
      }
    },
    {
      "cell_type": "code",
      "source": [
        "# We can now use tensorflow to make a simple MLP\n",
        "n_classes = 10\n",
        "input_shape = (28,28)\n",
        "\n",
        "model = tf.keras.models.Sequential([\n",
        "    tf.keras.layers.Flatten(input_shape=input_shape), # Transforms the 2D input into 1D\n",
        "    tf.keras.layers.Dense(128, activation='relu'),    # Layer with 128 neurons, each with relu as their activation function\n",
        "    tf.keras.layers.Dense(64, activation='relu'),\n",
        "    tf.keras.layers.Dense(n_classes, activation='softmax'), # Layer with 10 neurons, with the softmax function\n",
        "])\n",
        "\n",
        "# For a classification problem with multiple classes, a good loss function to choose\n",
        "# is the categorical crossentropy function, which takes into account the probability\n",
        "# predicted by the model for each class and compares it to the actual class.\n",
        "model.compile(optimizer='adam', loss='categorical_crossentropy', metrics=['accuracy'])"
      ],
      "metadata": {
        "id": "zt7Vd8ESE91q"
      },
      "execution_count": 19,
      "outputs": []
    },
    {
      "cell_type": "markdown",
      "source": [
        "The crossentropy function is defined below:\n",
        "\n",
        "$$H(p, q) = -\\sum_i p_i \\log q_i$$\n",
        "\n",
        "where $p_i$ is the probability of class $i$ and $q_i$ is the predicted probability of class $i$."
      ],
      "metadata": {
        "id": "sa2JbkspGDCm"
      }
    },
    {
      "cell_type": "code",
      "source": [
        "# We may now train our model\n",
        "epochs = 10\n",
        "batch_size = 30\n",
        "\n",
        "model.fit(train_images, train_labels, epochs=epochs, batch_size=batch_size, validation_data=(test_images, test_labels))"
      ],
      "metadata": {
        "colab": {
          "base_uri": "https://localhost:8080/"
        },
        "id": "msMhQJtuGjYk",
        "outputId": "398e77aa-b7c0-453e-f974-200a3762e39a"
      },
      "execution_count": 20,
      "outputs": [
        {
          "output_type": "stream",
          "name": "stdout",
          "text": [
            "Epoch 1/10\n",
            "2000/2000 [==============================] - 9s 3ms/step - loss: 0.2396 - accuracy: 0.9287 - val_loss: 0.1235 - val_accuracy: 0.9631\n",
            "Epoch 2/10\n",
            "2000/2000 [==============================] - 9s 5ms/step - loss: 0.1008 - accuracy: 0.9685 - val_loss: 0.0813 - val_accuracy: 0.9730\n",
            "Epoch 3/10\n",
            "2000/2000 [==============================] - 7s 3ms/step - loss: 0.0705 - accuracy: 0.9778 - val_loss: 0.0815 - val_accuracy: 0.9751\n",
            "Epoch 4/10\n",
            "2000/2000 [==============================] - 10s 5ms/step - loss: 0.0522 - accuracy: 0.9838 - val_loss: 0.0859 - val_accuracy: 0.9730\n",
            "Epoch 5/10\n",
            "2000/2000 [==============================] - 12s 6ms/step - loss: 0.0419 - accuracy: 0.9868 - val_loss: 0.0928 - val_accuracy: 0.9737\n",
            "Epoch 6/10\n",
            "2000/2000 [==============================] - 12s 6ms/step - loss: 0.0338 - accuracy: 0.9886 - val_loss: 0.0825 - val_accuracy: 0.9769\n",
            "Epoch 7/10\n",
            "2000/2000 [==============================] - 12s 6ms/step - loss: 0.0279 - accuracy: 0.9906 - val_loss: 0.0832 - val_accuracy: 0.9771\n",
            "Epoch 8/10\n",
            "2000/2000 [==============================] - 11s 5ms/step - loss: 0.0250 - accuracy: 0.9912 - val_loss: 0.0897 - val_accuracy: 0.9769\n",
            "Epoch 9/10\n",
            "2000/2000 [==============================] - 12s 6ms/step - loss: 0.0194 - accuracy: 0.9934 - val_loss: 0.0912 - val_accuracy: 0.9785\n",
            "Epoch 10/10\n",
            "2000/2000 [==============================] - 12s 6ms/step - loss: 0.0188 - accuracy: 0.9936 - val_loss: 0.0968 - val_accuracy: 0.9781\n"
          ]
        },
        {
          "output_type": "execute_result",
          "data": {
            "text/plain": [
              "<keras.src.callbacks.History at 0x7a5f082a5c00>"
            ]
          },
          "metadata": {},
          "execution_count": 20
        }
      ]
    },
    {
      "cell_type": "markdown",
      "source": [
        "## Evaluating the model"
      ],
      "metadata": {
        "id": "w8pBXDN4aBb7"
      }
    },
    {
      "cell_type": "code",
      "source": [
        "test_loss, test_acc = model.evaluate(test_images, test_labels)\n",
        "print(f'Test accuracy: {test_acc}')"
      ],
      "metadata": {
        "colab": {
          "base_uri": "https://localhost:8080/"
        },
        "id": "ZxyRgE6bHzah",
        "outputId": "31d24e5e-7870-4ebd-ef02-65c070beade4"
      },
      "execution_count": 21,
      "outputs": [
        {
          "output_type": "stream",
          "name": "stdout",
          "text": [
            "313/313 [==============================] - 1s 3ms/step - loss: 0.0968 - accuracy: 0.9781\n",
            "Test accuracy: 0.9781000018119812\n"
          ]
        }
      ]
    },
    {
      "cell_type": "markdown",
      "source": [
        "The model obtained 97.8% accuracy on test set, meaning that only 2.2% of images are being misclassified!"
      ],
      "metadata": {
        "id": "_BRF9dMlZpQo"
      }
    },
    {
      "cell_type": "code",
      "source": [
        "# We may now check the model's prediction for random images:\n",
        "def display_image(image, prediction, actual_class):\n",
        "  plt.imshow(image, cmap='gray')\n",
        "  plt.title(f'Prediction: {prediction}, Actual class: {actual_class}')\n",
        "  plt.show()\n",
        "\n",
        "n = np.random.randint(0, len(test_images))\n",
        "image = test_images[n]\n",
        "prediction = model.predict(image.reshape(1, 28, 28, 1))[0]\n",
        "prediction = np.where(prediction > 0.5)[0][0]\n",
        "actual_class = test_labels[n]\n",
        "actual_class = np.squeeze(np.where(actual_class>0.5))\n",
        "display_image(image, prediction, actual_class)"
      ],
      "metadata": {
        "colab": {
          "base_uri": "https://localhost:8080/",
          "height": 469
        },
        "id": "9pg4xgrwH451",
        "outputId": "b2b96a3a-bc31-43d4-99e1-68df467115e0"
      },
      "execution_count": 22,
      "outputs": [
        {
          "output_type": "stream",
          "name": "stdout",
          "text": [
            "1/1 [==============================] - 0s 128ms/step\n"
          ]
        },
        {
          "output_type": "display_data",
          "data": {
            "text/plain": [
              "<Figure size 640x480 with 1 Axes>"
            ],
            "image/png": "[encoded data removed]"
          },
          "metadata": {}
        }
      ]
    },
    {
      "cell_type": "code",
      "source": [
        "# We can also take a look at what images were missclassified by the model\n",
        "predictions = model.predict(test_images)\n",
        "predicted_labels = np.argmax(predictions, axis=1)\n",
        "true_labels = np.argmax(test_labels, axis=1)\n",
        "misclassified_indices = np.where(predicted_labels != true_labels)[0]\n",
        "\n",
        "num_misclassified_to_display = 5\n",
        "for i in range(min(num_misclassified_to_display, len(misclassified_indices))):\n",
        "    index = misclassified_indices[np.random.randint(0, len(misclassified_indices))]\n",
        "    plt.imshow(test_images[index].reshape(28, 28), cmap='gray')\n",
        "    plt.title(f\"Predicted: {predicted_labels[index]}, True: {true_labels[index]}\")\n",
        "    plt.axis('off')\n",
        "    plt.show()"
      ],
      "metadata": {
        "colab": {
          "base_uri": "https://localhost:8080/",
          "height": 1000
        },
        "id": "zhktRCLeIaPd",
        "outputId": "a2651d2f-5d3f-453f-a0d0-3b2e2f69525e"
      },
      "execution_count": 25,
      "outputs": [
        {
          "output_type": "stream",
          "name": "stdout",
          "text": [
            "313/313 [==============================] - 1s 2ms/step\n"
          ]
        },
        {
          "output_type": "display_data",
          "data": {
            "text/plain": [
              "<Figure size 640x480 with 1 Axes>"
            ],
            "image/png": "[encoded data removed]"
          },
          "metadata": {}
        },
        {
          "output_type": "display_data",
          "data": {
            "text/plain": [
              "<Figure size 640x480 with 1 Axes>"
            ],
            "image/png": "[encoded data removed]"
          },
          "metadata": {}
        },
        {
          "output_type": "display_data",
          "data": {
            "text/plain": [
              "<Figure size 640x480 with 1 Axes>"
            ],
            "image/png": "[encoded data removed]"
          },
          "metadata": {}
        },
        {
          "output_type": "display_data",
          "data": {
            "text/plain": [
              "<Figure size 640x480 with 1 Axes>"
            ],
            "image/png": "[encoded data removed]"
          },
          "metadata": {}
        },
        {
          "output_type": "display_data",
          "data": {
            "text/plain": [
              "<Figure size 640x480 with 1 Axes>"
            ],
            "image/png": "[encoded data removed]"
          },
          "metadata": {}
        }
      ]
    }
  ]
}